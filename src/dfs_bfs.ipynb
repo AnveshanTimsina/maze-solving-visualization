{
 "cells": [
  {
   "cell_type": "markdown",
   "id": "7432d4fa",
   "metadata": {},
   "source": [
    "future enhancement: random solvable maze generating function banaayera tya bata call garne instead of giving a maze as input"
   ]
  },
  {
   "cell_type": "code",
   "execution_count": 179,
   "id": "34b3812d",
   "metadata": {},
   "outputs": [],
   "source": [
    "import numpy as np\n",
    "import matplotlib.pyplot as plt\n",
    "import matplotlib.animation as animation\n",
    "import time\n",
    "from matplotlib import colors\n",
    "from collections import deque\n",
    "from IPython.display import HTML, display"
   ]
  },
  {
   "cell_type": "code",
   "execution_count": 180,
   "id": "974d7148",
   "metadata": {},
   "outputs": [],
   "source": [
    "# original_maze = [\n",
    "#     ['S', 0, 1, 0, 0, 1, 0, 0, 0, 1, 0, 1, 0, 0, 0, 1, 0, 0, 1, 0],\n",
    "#     [1, 0, 1, 0, 1, 1, 0, 1, 0, 1, 0, 1, 0, 1, 0, 1, 0, 1, 0, 0],\n",
    "#     [0, 0, 0, 0, 0, 0, 0, 1, 0, 0, 0, 1, 0, 0, 0, 1, 0, 0, 1, 0],\n",
    "#     [0, 1, 1, 1, 1, 1, 0, 1, 1, 1, 0, 1, 1, 1, 0, 1, 1, 0, 1, 0],\n",
    "#     [0, 1, 0, 0, 0, 0, 0, 0, 0, 1, 0, 0, 0, 0, 0, 0, 1, 0, 0, 0],\n",
    "#     [1, 1, 0, 1, 1, 1, 1, 1, 0, 1, 1, 1, 1, 1, 1, 0, 1, 1, 1, 0],\n",
    "#     [0, 0, 0, 1, 0, 0, 0, 0, 0, 0, 0, 0, 0, 0, 1, 0, 0, 0, 0, 0],\n",
    "#     [0, 1, 0, 1, 0, 1, 1, 1, 1, 1, 1, 1, 1, 0, 1, 1, 1, 1, 1, 0],\n",
    "#     [0, 1, 0, 0, 0, 1, 0, 0, 0, 0, 0, 0, 1, 0, 0, 0, 0, 0, 1, 0],\n",
    "#     [0, 1, 1, 1, 0, 1, 0, 1, 1, 1, 1, 0, 1, 1, 1, 1, 1, 0, 1, 0],\n",
    "#     [0, 0, 0, 1, 0, 0, 0, 1, 0, 0, 1, 0, 0, 0, 0, 0, 1, 0, 0, 0],\n",
    "#     [1, 1, 0, 1, 1, 1, 0, 1, 0, 1, 1, 1, 1, 1, 1, 0, 1, 1, 1, 0],\n",
    "#     [0, 1, 0, 0, 0, 1, 0, 0, 0, 1, 0, 0, 0, 0, 1, 0, 0, 0, 1, 0],\n",
    "#     [0, 1, 1, 1, 0, 1, 1, 1, 0, 1, 0, 1, 1, 0, 1, 1, 1, 0, 1, 0],\n",
    "#     [0, 0, 0, 1, 0, 0, 0, 1, 0, 0, 0, 1, 0, 0, 0, 1, 0, 0, 0, 0],\n",
    "#     [1, 1, 0, 1, 1, 1, 0, 1, 1, 1, 0, 1, 0, 1, 0, 1, 0, 1, 1, 1],\n",
    "#     [0, 0, 0, 0, 0, 1, 0, 0, 0, 0, 0, 1, 0, 1, 0, 0, 0, 0, 0, 0],\n",
    "#     [0, 1, 1, 1, 0, 1, 1, 1, 1, 1, 0, 1, 1, 1, 1, 1, 1, 1, 1, 0],\n",
    "#     [0, 0, 0, 1, 0, 0, 0, 0, 0, 0, 0, 0, 0, 0, 0, 0, 0, 0, 0, 0],\n",
    "#     [1, 1, 0, 1, 1, 1, 1, 1, 1, 1, 1, 1, 1, 1, 1, 1, 1, 1, 1, 'G'],\n",
    "# ]\n",
    "\n",
    "original_maze = [\n",
    "    ['S', 0, 1, 0, 0, 1, 0],\n",
    "    [1, 0, 1, 0, 1, 1, 0],\n",
    "    [0, 0, 0, 0, 0, 0, 0],\n",
    "    [0, 1, 1, 1, 1, 1, 0],\n",
    "    [0, 1, 0, 0, 0, 0, 0],\n",
    "    [1, 1, 0, 1, 1, 1, 0],\n",
    "    [0, 0, 0, 0, 0, 0, 'G'],\n",
    "]\n"
   ]
  },
  {
   "cell_type": "code",
   "execution_count": 181,
   "id": "21784983",
   "metadata": {},
   "outputs": [],
   "source": [
    "def to_numeric_grid(maze):\n",
    "    mapping = {'S':2, 'G':3, '1':1, '0':0, 1:1, 0:0}\n",
    "    numeric_grid = np.array([[mapping.get(element,100) for element in row] for row in maze],dtype=int)\n",
    "    return numeric_grid\n",
    "\n",
    "numerized_maze = to_numeric_grid(original_maze)"
   ]
  },
  {
   "cell_type": "code",
   "execution_count": 182,
   "id": "020f0b80",
   "metadata": {},
   "outputs": [],
   "source": [
    "def generate_random_maze(rows, cols, wall_prob=0.3):\n",
    "    maze = np.random.choice([0, 1], size=(rows, cols), p=[1 - wall_prob, wall_prob])\n",
    "    maze[0][0] = 2\n",
    "    maze[rows - 1][cols - 1] = 3 \n",
    "    return np.array(maze)\n",
    "\n",
    "numerized_maze_random = generate_random_maze(10, 10)\n"
   ]
  },
  {
   "cell_type": "code",
   "execution_count": 183,
   "id": "ffda5d86",
   "metadata": {},
   "outputs": [],
   "source": [
    "def find_pos(maze,value):\n",
    "    for i in range(len(maze)): #iterating over rows in the maze\n",
    "        for j in range(len(maze[i])): #iterating over elements in a row\n",
    "            if maze[i][j]==value:\n",
    "                return (i,j)\n",
    "    return None"
   ]
  },
  {
   "cell_type": "code",
   "execution_count": 184,
   "id": "18e6b48c",
   "metadata": {},
   "outputs": [
    {
     "data": {
      "image/png": "[encoded data removed]",
      "text/plain": [
       "<Figure size 1000x1000 with 1 Axes>"
      ]
     },
     "metadata": {},
     "output_type": "display_data"
    }
   ],
   "source": [
    "def visualize_maze(maze):\n",
    "    start_pos=find_pos(maze,2)\n",
    "    goal_pos=find_pos(maze,3)\n",
    "\n",
    "    cmap = colors.ListedColormap(['white', 'black'])\n",
    "    bounds = [-0.5, 0.5, 1.5]\n",
    "    norm = colors.BoundaryNorm(bounds, cmap.N)\n",
    "\n",
    "    plt.figure(figsize=(10,10))\n",
    "    plt.imshow(maze, cmap=cmap,norm=norm)\n",
    "\n",
    "    plt.scatter(start_pos[0],start_pos[1],s=150,c='green',label='Start(S)')\n",
    "    plt.scatter(goal_pos[0],goal_pos[1],s=150,c='red',label='Goal(G)')\n",
    "    plt.legend()\n",
    "\n",
    "    plt.xticks([])\n",
    "    plt.yticks([])\n",
    "\n",
    "    plt.show()\n",
    "\n",
    "visualize_maze(numerized_maze)"
   ]
  },
  {
   "cell_type": "code",
   "execution_count": 185,
   "id": "60ee9456",
   "metadata": {},
   "outputs": [
    {
     "name": "stdout",
     "output_type": "stream",
     "text": [
      "[(0, 1), (2, 1)]\n"
     ]
    }
   ],
   "source": [
    "def get_neighbors(maze, r,c):\n",
    "    directions =[(-1,0),(1,0),(0,1),(0,-1)]\n",
    "    rows, columns = len(maze), len(maze[0])\n",
    "\n",
    "    for (dr, dc) in directions:\n",
    "        nr = r+dr\n",
    "        nc = c+dc\n",
    "        if (0 <= nr < rows) and (0 <= nc < columns):\n",
    "            if maze[nr][nc] != 1:\n",
    "                yield (nr,nc)\n",
    "        \n",
    "neighbors = list(get_neighbors(numerized_maze, 1, 1))\n",
    "print(neighbors)"
   ]
  },
  {
   "cell_type": "code",
   "execution_count": 186,
   "id": "a7f1032d",
   "metadata": {},
   "outputs": [],
   "source": [
    "def solve_maze(maze, algorithm='bfs'):\n",
    "    if algorithm not in ['bfs', 'dfs']:\n",
    "        print('Invalid algorithm. Choose bfs or dfs')\n",
    "        return\n",
    "\n",
    "    start = find_pos(maze, 2)\n",
    "    goal = find_pos(maze, 3)\n",
    "\n",
    "    frontier = deque([(start, [start])]) if algorithm == 'bfs' else [(start, [start])]\n",
    "    visited = set()\n",
    "\n",
    "    cmap = colors.ListedColormap(['white', 'black', 'green', 'red', 'yellow', 'blue'])  # 0,1,2,3,4,5\n",
    "\n",
    "    fig, ax = plt.subplots(figsize=(10, 10))\n",
    "    img = ax.imshow(maze, cmap=cmap)\n",
    "    ax.set_title(f\"{algorithm.upper()} Maze Solver\")\n",
    "\n",
    "    found_goal = False\n",
    "\n",
    "    def update(frame):\n",
    "        nonlocal frontier, found_goal\n",
    "        start_time = time.time()\n",
    "\n",
    "        if found_goal or not frontier:\n",
    "            return img\n",
    "\n",
    "        (r, c), path = frontier.popleft() if algorithm == 'bfs' else frontier.pop()\n",
    "\n",
    "        if (r, c) in visited:\n",
    "            return img\n",
    "\n",
    "        visited.add((r, c))\n",
    "\n",
    "        if (r, c) == goal:\n",
    "            path_length = len(path)\n",
    "            end_time = time.time()\n",
    "            execution_time = end_time - start_time\n",
    "            print(\"Goal reached at\", (r, c))\n",
    "            print(f'Path length: {path_length}')\n",
    "            print(f'Steps taken: {len(visited)}')\n",
    "            print(f'Total visited nodes: {len(visited)}')\n",
    "            print(f'Execution time: {execution_time:.3f} seconds')\n",
    "\n",
    "            for pr, pc in path:\n",
    "                if maze[pr][pc] not in [2, 3]:\n",
    "                    maze[pr][pc] = 5  # color solved path blue (5)\n",
    "            img.set_data(maze)\n",
    "            found_goal = True \n",
    "            return img\n",
    "\n",
    "        if maze[r][c] not in [2, 3]:\n",
    "            maze[r][c] = 4  # color visited path yellow\n",
    "\n",
    "        for nr, nc in get_neighbors(maze, r, c):\n",
    "            if (nr, nc) not in visited and maze[nr][nc] != 1:\n",
    "                frontier.append(((nr, nc), path + [(nr, nc)]))\n",
    "\n",
    "        print(f\"Visiting: {(r, c)}, Frontier size: {len(frontier)}\")\n",
    "\n",
    "        img.set_data(maze)\n",
    "        return img\n",
    "\n",
    "    def close_on_key(event):\n",
    "        plt.close(fig)\n",
    "\n",
    "    fig.canvas.mpl_connect('key_press_event', close_on_key)\n",
    "    # # global anim\n",
    "    anim = animation.FuncAnimation(fig, update, interval=300, frames=500, repeat=False)\n",
    "\n",
    "    HTML(anim.to_jshtml()) \n",
    "    # # plt.show()\n"
   ]
  },
  {
   "cell_type": "code",
   "execution_count": 187,
   "id": "335c1d8c",
   "metadata": {},
   "outputs": [
    {
     "name": "stdout",
     "output_type": "stream",
     "text": [
      "Visiting: (0, 0), Frontier size: 1\n",
      "Visiting: (0, 1), Frontier size: 1\n",
      "Visiting: (1, 1), Frontier size: 1\n",
      "Visiting: (2, 1), Frontier size: 2\n",
      "Visiting: (2, 2), Frontier size: 2\n",
      "Visiting: (2, 0), Frontier size: 2\n",
      "Visiting: (2, 3), Frontier size: 3\n",
      "Visiting: (3, 0), Frontier size: 3\n",
      "Visiting: (1, 3), Frontier size: 3\n",
      "Visiting: (2, 4), Frontier size: 3\n",
      "Visiting: (4, 0), Frontier size: 2\n",
      "Visiting: (0, 3), Frontier size: 2\n",
      "Visiting: (2, 5), Frontier size: 2\n",
      "Visiting: (0, 4), Frontier size: 1\n",
      "Visiting: (2, 6), Frontier size: 2\n",
      "Visiting: (1, 6), Frontier size: 2\n",
      "Visiting: (3, 6), Frontier size: 2\n",
      "Visiting: (0, 6), Frontier size: 1\n",
      "Visiting: (4, 6), Frontier size: 2\n",
      "Visiting: (5, 6), Frontier size: 2\n",
      "Visiting: (4, 5), Frontier size: 2\n",
      "Goal reached at (6, 6)\n",
      "Path length: 13\n",
      "Steps taken: 22\n",
      "Total visited nodes: 22\n",
      "Execution time: 0.000 seconds\n"
     ]
    },
    {
     "ename": "KeyboardInterrupt",
     "evalue": "",
     "output_type": "error",
     "traceback": [
      "\u001b[31m---------------------------------------------------------------------------\u001b[39m",
      "\u001b[31mKeyboardInterrupt\u001b[39m                         Traceback (most recent call last)",
      "\u001b[36mCell\u001b[39m\u001b[36m \u001b[39m\u001b[32mIn[187]\u001b[39m\u001b[32m, line 4\u001b[39m\n\u001b[32m      1\u001b[39m \u001b[38;5;66;03m# algorithm = input(\"Enter algorithm (BFS or DFS): \").strip().lower()\u001b[39;00m\n\u001b[32m----> \u001b[39m\u001b[32m4\u001b[39m ani = \u001b[43msolve_maze\u001b[49m\u001b[43m(\u001b[49m\u001b[43mnumerized_maze\u001b[49m\u001b[43m)\u001b[49m\n\u001b[32m      5\u001b[39m display(ani)\n",
      "\u001b[36mCell\u001b[39m\u001b[36m \u001b[39m\u001b[32mIn[186]\u001b[39m\u001b[32m, line 70\u001b[39m, in \u001b[36msolve_maze\u001b[39m\u001b[34m(maze, algorithm)\u001b[39m\n\u001b[32m     67\u001b[39m \u001b[38;5;66;03m# # global anim\u001b[39;00m\n\u001b[32m     68\u001b[39m anim = animation.FuncAnimation(fig, update, interval=\u001b[32m300\u001b[39m, frames=\u001b[32m500\u001b[39m, repeat=\u001b[38;5;28;01mFalse\u001b[39;00m)\n\u001b[32m---> \u001b[39m\u001b[32m70\u001b[39m HTML(\u001b[43manim\u001b[49m\u001b[43m.\u001b[49m\u001b[43mto_jshtml\u001b[49m\u001b[43m(\u001b[49m\u001b[43m)\u001b[49m)\n",
      "\u001b[36mFile \u001b[39m\u001b[32m~/Desktop/Stuff/projects/maze-solving-visualization/maze-solving-visualization/lib/python3.12/site-packages/matplotlib/animation.py:1376\u001b[39m, in \u001b[36mAnimation.to_jshtml\u001b[39m\u001b[34m(self, fps, embed_frames, default_mode)\u001b[39m\n\u001b[32m   1372\u001b[39m         path = Path(tmpdir, \u001b[33m\"\u001b[39m\u001b[33mtemp.html\u001b[39m\u001b[33m\"\u001b[39m)\n\u001b[32m   1373\u001b[39m         writer = HTMLWriter(fps=fps,\n\u001b[32m   1374\u001b[39m                             embed_frames=embed_frames,\n\u001b[32m   1375\u001b[39m                             default_mode=default_mode)\n\u001b[32m-> \u001b[39m\u001b[32m1376\u001b[39m         \u001b[38;5;28;43mself\u001b[39;49m\u001b[43m.\u001b[49m\u001b[43msave\u001b[49m\u001b[43m(\u001b[49m\u001b[38;5;28;43mstr\u001b[39;49m\u001b[43m(\u001b[49m\u001b[43mpath\u001b[49m\u001b[43m)\u001b[49m\u001b[43m,\u001b[49m\u001b[43m \u001b[49m\u001b[43mwriter\u001b[49m\u001b[43m=\u001b[49m\u001b[43mwriter\u001b[49m\u001b[43m)\u001b[49m\n\u001b[32m   1377\u001b[39m         \u001b[38;5;28mself\u001b[39m._html_representation = path.read_text()\n\u001b[32m   1379\u001b[39m \u001b[38;5;28;01mreturn\u001b[39;00m \u001b[38;5;28mself\u001b[39m._html_representation\n",
      "\u001b[36mFile \u001b[39m\u001b[32m~/Desktop/Stuff/projects/maze-solving-visualization/maze-solving-visualization/lib/python3.12/site-packages/matplotlib/animation.py:1122\u001b[39m, in \u001b[36mAnimation.save\u001b[39m\u001b[34m(self, filename, writer, fps, dpi, codec, bitrate, extra_args, metadata, extra_anim, savefig_kwargs, progress_callback)\u001b[39m\n\u001b[32m   1119\u001b[39m \u001b[38;5;28;01mfor\u001b[39;00m data \u001b[38;5;129;01min\u001b[39;00m \u001b[38;5;28mzip\u001b[39m(*[a.new_saved_frame_seq() \u001b[38;5;28;01mfor\u001b[39;00m a \u001b[38;5;129;01min\u001b[39;00m all_anim]):\n\u001b[32m   1120\u001b[39m     \u001b[38;5;28;01mfor\u001b[39;00m anim, d \u001b[38;5;129;01min\u001b[39;00m \u001b[38;5;28mzip\u001b[39m(all_anim, data):\n\u001b[32m   1121\u001b[39m         \u001b[38;5;66;03m# TODO: See if turning off blit is really necessary\u001b[39;00m\n\u001b[32m-> \u001b[39m\u001b[32m1122\u001b[39m         \u001b[43manim\u001b[49m\u001b[43m.\u001b[49m\u001b[43m_draw_next_frame\u001b[49m\u001b[43m(\u001b[49m\u001b[43md\u001b[49m\u001b[43m,\u001b[49m\u001b[43m \u001b[49m\u001b[43mblit\u001b[49m\u001b[43m=\u001b[49m\u001b[38;5;28;43;01mFalse\u001b[39;49;00m\u001b[43m)\u001b[49m\n\u001b[32m   1123\u001b[39m         \u001b[38;5;28;01mif\u001b[39;00m progress_callback \u001b[38;5;129;01mis\u001b[39;00m \u001b[38;5;129;01mnot\u001b[39;00m \u001b[38;5;28;01mNone\u001b[39;00m:\n\u001b[32m   1124\u001b[39m             progress_callback(frame_number, total_frames)\n",
      "\u001b[36mFile \u001b[39m\u001b[32m~/Desktop/Stuff/projects/maze-solving-visualization/maze-solving-visualization/lib/python3.12/site-packages/matplotlib/animation.py:1158\u001b[39m, in \u001b[36mAnimation._draw_next_frame\u001b[39m\u001b[34m(self, framedata, blit)\u001b[39m\n\u001b[32m   1156\u001b[39m \u001b[38;5;28mself\u001b[39m._pre_draw(framedata, blit)\n\u001b[32m   1157\u001b[39m \u001b[38;5;28mself\u001b[39m._draw_frame(framedata)\n\u001b[32m-> \u001b[39m\u001b[32m1158\u001b[39m \u001b[38;5;28;43mself\u001b[39;49m\u001b[43m.\u001b[49m\u001b[43m_post_draw\u001b[49m\u001b[43m(\u001b[49m\u001b[43mframedata\u001b[49m\u001b[43m,\u001b[49m\u001b[43m \u001b[49m\u001b[43mblit\u001b[49m\u001b[43m)\u001b[49m\n",
      "\u001b[36mFile \u001b[39m\u001b[32m~/Desktop/Stuff/projects/maze-solving-visualization/maze-solving-visualization/lib/python3.12/site-packages/matplotlib/animation.py:1183\u001b[39m, in \u001b[36mAnimation._post_draw\u001b[39m\u001b[34m(self, framedata, blit)\u001b[39m\n\u001b[32m   1181\u001b[39m     \u001b[38;5;28mself\u001b[39m._blit_draw(\u001b[38;5;28mself\u001b[39m._drawn_artists)\n\u001b[32m   1182\u001b[39m \u001b[38;5;28;01melse\u001b[39;00m:\n\u001b[32m-> \u001b[39m\u001b[32m1183\u001b[39m     \u001b[38;5;28;43mself\u001b[39;49m\u001b[43m.\u001b[49m\u001b[43m_fig\u001b[49m\u001b[43m.\u001b[49m\u001b[43mcanvas\u001b[49m\u001b[43m.\u001b[49m\u001b[43mdraw_idle\u001b[49m\u001b[43m(\u001b[49m\u001b[43m)\u001b[49m\n",
      "\u001b[36mFile \u001b[39m\u001b[32m~/Desktop/Stuff/projects/maze-solving-visualization/maze-solving-visualization/lib/python3.12/site-packages/matplotlib/backend_bases.py:1891\u001b[39m, in \u001b[36mFigureCanvasBase.draw_idle\u001b[39m\u001b[34m(self, *args, **kwargs)\u001b[39m\n\u001b[32m   1889\u001b[39m \u001b[38;5;28;01mif\u001b[39;00m \u001b[38;5;129;01mnot\u001b[39;00m \u001b[38;5;28mself\u001b[39m._is_idle_drawing:\n\u001b[32m   1890\u001b[39m     \u001b[38;5;28;01mwith\u001b[39;00m \u001b[38;5;28mself\u001b[39m._idle_draw_cntx():\n\u001b[32m-> \u001b[39m\u001b[32m1891\u001b[39m         \u001b[38;5;28;43mself\u001b[39;49m\u001b[43m.\u001b[49m\u001b[43mdraw\u001b[49m\u001b[43m(\u001b[49m\u001b[43m*\u001b[49m\u001b[43margs\u001b[49m\u001b[43m,\u001b[49m\u001b[43m \u001b[49m\u001b[43m*\u001b[49m\u001b[43m*\u001b[49m\u001b[43mkwargs\u001b[49m\u001b[43m)\u001b[49m\n",
      "\u001b[36mFile \u001b[39m\u001b[32m~/Desktop/Stuff/projects/maze-solving-visualization/maze-solving-visualization/lib/python3.12/site-packages/matplotlib/backends/backend_agg.py:382\u001b[39m, in \u001b[36mFigureCanvasAgg.draw\u001b[39m\u001b[34m(self)\u001b[39m\n\u001b[32m    379\u001b[39m \u001b[38;5;66;03m# Acquire a lock on the shared font cache.\u001b[39;00m\n\u001b[32m    380\u001b[39m \u001b[38;5;28;01mwith\u001b[39;00m (\u001b[38;5;28mself\u001b[39m.toolbar._wait_cursor_for_draw_cm() \u001b[38;5;28;01mif\u001b[39;00m \u001b[38;5;28mself\u001b[39m.toolbar\n\u001b[32m    381\u001b[39m       \u001b[38;5;28;01melse\u001b[39;00m nullcontext()):\n\u001b[32m--> \u001b[39m\u001b[32m382\u001b[39m     \u001b[38;5;28;43mself\u001b[39;49m\u001b[43m.\u001b[49m\u001b[43mfigure\u001b[49m\u001b[43m.\u001b[49m\u001b[43mdraw\u001b[49m\u001b[43m(\u001b[49m\u001b[38;5;28;43mself\u001b[39;49m\u001b[43m.\u001b[49m\u001b[43mrenderer\u001b[49m\u001b[43m)\u001b[49m\n\u001b[32m    383\u001b[39m     \u001b[38;5;66;03m# A GUI class may be need to update a window using this draw, so\u001b[39;00m\n\u001b[32m    384\u001b[39m     \u001b[38;5;66;03m# don't forget to call the superclass.\u001b[39;00m\n\u001b[32m    385\u001b[39m     \u001b[38;5;28msuper\u001b[39m().draw()\n",
      "\u001b[36mFile \u001b[39m\u001b[32m~/Desktop/Stuff/projects/maze-solving-visualization/maze-solving-visualization/lib/python3.12/site-packages/matplotlib/artist.py:94\u001b[39m, in \u001b[36m_finalize_rasterization.<locals>.draw_wrapper\u001b[39m\u001b[34m(artist, renderer, *args, **kwargs)\u001b[39m\n\u001b[32m     92\u001b[39m \u001b[38;5;129m@wraps\u001b[39m(draw)\n\u001b[32m     93\u001b[39m \u001b[38;5;28;01mdef\u001b[39;00m\u001b[38;5;250m \u001b[39m\u001b[34mdraw_wrapper\u001b[39m(artist, renderer, *args, **kwargs):\n\u001b[32m---> \u001b[39m\u001b[32m94\u001b[39m     result = \u001b[43mdraw\u001b[49m\u001b[43m(\u001b[49m\u001b[43martist\u001b[49m\u001b[43m,\u001b[49m\u001b[43m \u001b[49m\u001b[43mrenderer\u001b[49m\u001b[43m,\u001b[49m\u001b[43m \u001b[49m\u001b[43m*\u001b[49m\u001b[43margs\u001b[49m\u001b[43m,\u001b[49m\u001b[43m \u001b[49m\u001b[43m*\u001b[49m\u001b[43m*\u001b[49m\u001b[43mkwargs\u001b[49m\u001b[43m)\u001b[49m\n\u001b[32m     95\u001b[39m     \u001b[38;5;28;01mif\u001b[39;00m renderer._rasterizing:\n\u001b[32m     96\u001b[39m         renderer.stop_rasterizing()\n",
      "\u001b[36mFile \u001b[39m\u001b[32m~/Desktop/Stuff/projects/maze-solving-visualization/maze-solving-visualization/lib/python3.12/site-packages/matplotlib/artist.py:71\u001b[39m, in \u001b[36mallow_rasterization.<locals>.draw_wrapper\u001b[39m\u001b[34m(artist, renderer)\u001b[39m\n\u001b[32m     68\u001b[39m     \u001b[38;5;28;01mif\u001b[39;00m artist.get_agg_filter() \u001b[38;5;129;01mis\u001b[39;00m \u001b[38;5;129;01mnot\u001b[39;00m \u001b[38;5;28;01mNone\u001b[39;00m:\n\u001b[32m     69\u001b[39m         renderer.start_filter()\n\u001b[32m---> \u001b[39m\u001b[32m71\u001b[39m     \u001b[38;5;28;01mreturn\u001b[39;00m \u001b[43mdraw\u001b[49m\u001b[43m(\u001b[49m\u001b[43martist\u001b[49m\u001b[43m,\u001b[49m\u001b[43m \u001b[49m\u001b[43mrenderer\u001b[49m\u001b[43m)\u001b[49m\n\u001b[32m     72\u001b[39m \u001b[38;5;28;01mfinally\u001b[39;00m:\n\u001b[32m     73\u001b[39m     \u001b[38;5;28;01mif\u001b[39;00m artist.get_agg_filter() \u001b[38;5;129;01mis\u001b[39;00m \u001b[38;5;129;01mnot\u001b[39;00m \u001b[38;5;28;01mNone\u001b[39;00m:\n",
      "\u001b[36mFile \u001b[39m\u001b[32m~/Desktop/Stuff/projects/maze-solving-visualization/maze-solving-visualization/lib/python3.12/site-packages/matplotlib/figure.py:3257\u001b[39m, in \u001b[36mFigure.draw\u001b[39m\u001b[34m(self, renderer)\u001b[39m\n\u001b[32m   3254\u001b[39m             \u001b[38;5;66;03m# ValueError can occur when resizing a window.\u001b[39;00m\n\u001b[32m   3256\u001b[39m     \u001b[38;5;28mself\u001b[39m.patch.draw(renderer)\n\u001b[32m-> \u001b[39m\u001b[32m3257\u001b[39m     \u001b[43mmimage\u001b[49m\u001b[43m.\u001b[49m\u001b[43m_draw_list_compositing_images\u001b[49m\u001b[43m(\u001b[49m\n\u001b[32m   3258\u001b[39m \u001b[43m        \u001b[49m\u001b[43mrenderer\u001b[49m\u001b[43m,\u001b[49m\u001b[43m \u001b[49m\u001b[38;5;28;43mself\u001b[39;49m\u001b[43m,\u001b[49m\u001b[43m \u001b[49m\u001b[43martists\u001b[49m\u001b[43m,\u001b[49m\u001b[43m \u001b[49m\u001b[38;5;28;43mself\u001b[39;49m\u001b[43m.\u001b[49m\u001b[43msuppressComposite\u001b[49m\u001b[43m)\u001b[49m\n\u001b[32m   3260\u001b[39m     renderer.close_group(\u001b[33m'\u001b[39m\u001b[33mfigure\u001b[39m\u001b[33m'\u001b[39m)\n\u001b[32m   3261\u001b[39m \u001b[38;5;28;01mfinally\u001b[39;00m:\n",
      "\u001b[36mFile \u001b[39m\u001b[32m~/Desktop/Stuff/projects/maze-solving-visualization/maze-solving-visualization/lib/python3.12/site-packages/matplotlib/image.py:134\u001b[39m, in \u001b[36m_draw_list_compositing_images\u001b[39m\u001b[34m(renderer, parent, artists, suppress_composite)\u001b[39m\n\u001b[32m    132\u001b[39m \u001b[38;5;28;01mif\u001b[39;00m not_composite \u001b[38;5;129;01mor\u001b[39;00m \u001b[38;5;129;01mnot\u001b[39;00m has_images:\n\u001b[32m    133\u001b[39m     \u001b[38;5;28;01mfor\u001b[39;00m a \u001b[38;5;129;01min\u001b[39;00m artists:\n\u001b[32m--> \u001b[39m\u001b[32m134\u001b[39m         \u001b[43ma\u001b[49m\u001b[43m.\u001b[49m\u001b[43mdraw\u001b[49m\u001b[43m(\u001b[49m\u001b[43mrenderer\u001b[49m\u001b[43m)\u001b[49m\n\u001b[32m    135\u001b[39m \u001b[38;5;28;01melse\u001b[39;00m:\n\u001b[32m    136\u001b[39m     \u001b[38;5;66;03m# Composite any adjacent images together\u001b[39;00m\n\u001b[32m    137\u001b[39m     image_group = []\n",
      "\u001b[36mFile \u001b[39m\u001b[32m~/Desktop/Stuff/projects/maze-solving-visualization/maze-solving-visualization/lib/python3.12/site-packages/matplotlib/artist.py:71\u001b[39m, in \u001b[36mallow_rasterization.<locals>.draw_wrapper\u001b[39m\u001b[34m(artist, renderer)\u001b[39m\n\u001b[32m     68\u001b[39m     \u001b[38;5;28;01mif\u001b[39;00m artist.get_agg_filter() \u001b[38;5;129;01mis\u001b[39;00m \u001b[38;5;129;01mnot\u001b[39;00m \u001b[38;5;28;01mNone\u001b[39;00m:\n\u001b[32m     69\u001b[39m         renderer.start_filter()\n\u001b[32m---> \u001b[39m\u001b[32m71\u001b[39m     \u001b[38;5;28;01mreturn\u001b[39;00m \u001b[43mdraw\u001b[49m\u001b[43m(\u001b[49m\u001b[43martist\u001b[49m\u001b[43m,\u001b[49m\u001b[43m \u001b[49m\u001b[43mrenderer\u001b[49m\u001b[43m)\u001b[49m\n\u001b[32m     72\u001b[39m \u001b[38;5;28;01mfinally\u001b[39;00m:\n\u001b[32m     73\u001b[39m     \u001b[38;5;28;01mif\u001b[39;00m artist.get_agg_filter() \u001b[38;5;129;01mis\u001b[39;00m \u001b[38;5;129;01mnot\u001b[39;00m \u001b[38;5;28;01mNone\u001b[39;00m:\n",
      "\u001b[36mFile \u001b[39m\u001b[32m~/Desktop/Stuff/projects/maze-solving-visualization/maze-solving-visualization/lib/python3.12/site-packages/matplotlib/axes/_base.py:3216\u001b[39m, in \u001b[36m_AxesBase.draw\u001b[39m\u001b[34m(self, renderer)\u001b[39m\n\u001b[32m   3213\u001b[39m \u001b[38;5;28;01mif\u001b[39;00m artists_rasterized:\n\u001b[32m   3214\u001b[39m     _draw_rasterized(\u001b[38;5;28mself\u001b[39m.get_figure(root=\u001b[38;5;28;01mTrue\u001b[39;00m), artists_rasterized, renderer)\n\u001b[32m-> \u001b[39m\u001b[32m3216\u001b[39m \u001b[43mmimage\u001b[49m\u001b[43m.\u001b[49m\u001b[43m_draw_list_compositing_images\u001b[49m\u001b[43m(\u001b[49m\n\u001b[32m   3217\u001b[39m \u001b[43m    \u001b[49m\u001b[43mrenderer\u001b[49m\u001b[43m,\u001b[49m\u001b[43m \u001b[49m\u001b[38;5;28;43mself\u001b[39;49m\u001b[43m,\u001b[49m\u001b[43m \u001b[49m\u001b[43martists\u001b[49m\u001b[43m,\u001b[49m\u001b[43m \u001b[49m\u001b[38;5;28;43mself\u001b[39;49m\u001b[43m.\u001b[49m\u001b[43mget_figure\u001b[49m\u001b[43m(\u001b[49m\u001b[43mroot\u001b[49m\u001b[43m=\u001b[49m\u001b[38;5;28;43;01mTrue\u001b[39;49;00m\u001b[43m)\u001b[49m\u001b[43m.\u001b[49m\u001b[43msuppressComposite\u001b[49m\u001b[43m)\u001b[49m\n\u001b[32m   3219\u001b[39m renderer.close_group(\u001b[33m'\u001b[39m\u001b[33maxes\u001b[39m\u001b[33m'\u001b[39m)\n\u001b[32m   3220\u001b[39m \u001b[38;5;28mself\u001b[39m.stale = \u001b[38;5;28;01mFalse\u001b[39;00m\n",
      "\u001b[36mFile \u001b[39m\u001b[32m~/Desktop/Stuff/projects/maze-solving-visualization/maze-solving-visualization/lib/python3.12/site-packages/matplotlib/image.py:134\u001b[39m, in \u001b[36m_draw_list_compositing_images\u001b[39m\u001b[34m(renderer, parent, artists, suppress_composite)\u001b[39m\n\u001b[32m    132\u001b[39m \u001b[38;5;28;01mif\u001b[39;00m not_composite \u001b[38;5;129;01mor\u001b[39;00m \u001b[38;5;129;01mnot\u001b[39;00m has_images:\n\u001b[32m    133\u001b[39m     \u001b[38;5;28;01mfor\u001b[39;00m a \u001b[38;5;129;01min\u001b[39;00m artists:\n\u001b[32m--> \u001b[39m\u001b[32m134\u001b[39m         \u001b[43ma\u001b[49m\u001b[43m.\u001b[49m\u001b[43mdraw\u001b[49m\u001b[43m(\u001b[49m\u001b[43mrenderer\u001b[49m\u001b[43m)\u001b[49m\n\u001b[32m    135\u001b[39m \u001b[38;5;28;01melse\u001b[39;00m:\n\u001b[32m    136\u001b[39m     \u001b[38;5;66;03m# Composite any adjacent images together\u001b[39;00m\n\u001b[32m    137\u001b[39m     image_group = []\n",
      "\u001b[36mFile \u001b[39m\u001b[32m~/Desktop/Stuff/projects/maze-solving-visualization/maze-solving-visualization/lib/python3.12/site-packages/matplotlib/artist.py:71\u001b[39m, in \u001b[36mallow_rasterization.<locals>.draw_wrapper\u001b[39m\u001b[34m(artist, renderer)\u001b[39m\n\u001b[32m     68\u001b[39m     \u001b[38;5;28;01mif\u001b[39;00m artist.get_agg_filter() \u001b[38;5;129;01mis\u001b[39;00m \u001b[38;5;129;01mnot\u001b[39;00m \u001b[38;5;28;01mNone\u001b[39;00m:\n\u001b[32m     69\u001b[39m         renderer.start_filter()\n\u001b[32m---> \u001b[39m\u001b[32m71\u001b[39m     \u001b[38;5;28;01mreturn\u001b[39;00m \u001b[43mdraw\u001b[49m\u001b[43m(\u001b[49m\u001b[43martist\u001b[49m\u001b[43m,\u001b[49m\u001b[43m \u001b[49m\u001b[43mrenderer\u001b[49m\u001b[43m)\u001b[49m\n\u001b[32m     72\u001b[39m \u001b[38;5;28;01mfinally\u001b[39;00m:\n\u001b[32m     73\u001b[39m     \u001b[38;5;28;01mif\u001b[39;00m artist.get_agg_filter() \u001b[38;5;129;01mis\u001b[39;00m \u001b[38;5;129;01mnot\u001b[39;00m \u001b[38;5;28;01mNone\u001b[39;00m:\n",
      "\u001b[36mFile \u001b[39m\u001b[32m~/Desktop/Stuff/projects/maze-solving-visualization/maze-solving-visualization/lib/python3.12/site-packages/matplotlib/axis.py:1404\u001b[39m, in \u001b[36mAxis.draw\u001b[39m\u001b[34m(self, renderer)\u001b[39m\n\u001b[32m   1401\u001b[39m     \u001b[38;5;28;01mreturn\u001b[39;00m\n\u001b[32m   1402\u001b[39m renderer.open_group(\u001b[34m__name__\u001b[39m, gid=\u001b[38;5;28mself\u001b[39m.get_gid())\n\u001b[32m-> \u001b[39m\u001b[32m1404\u001b[39m ticks_to_draw = \u001b[38;5;28;43mself\u001b[39;49m\u001b[43m.\u001b[49m\u001b[43m_update_ticks\u001b[49m\u001b[43m(\u001b[49m\u001b[43m)\u001b[49m\n\u001b[32m   1405\u001b[39m tlb1, tlb2 = \u001b[38;5;28mself\u001b[39m._get_ticklabel_bboxes(ticks_to_draw, renderer)\n\u001b[32m   1407\u001b[39m \u001b[38;5;28;01mfor\u001b[39;00m tick \u001b[38;5;129;01min\u001b[39;00m ticks_to_draw:\n",
      "\u001b[36mFile \u001b[39m\u001b[32m~/Desktop/Stuff/projects/maze-solving-visualization/maze-solving-visualization/lib/python3.12/site-packages/matplotlib/axis.py:1285\u001b[39m, in \u001b[36mAxis._update_ticks\u001b[39m\u001b[34m(self)\u001b[39m\n\u001b[32m   1283\u001b[39m major_ticks = \u001b[38;5;28mself\u001b[39m.get_major_ticks(\u001b[38;5;28mlen\u001b[39m(major_locs))\n\u001b[32m   1284\u001b[39m \u001b[38;5;28;01mfor\u001b[39;00m tick, loc, label \u001b[38;5;129;01min\u001b[39;00m \u001b[38;5;28mzip\u001b[39m(major_ticks, major_locs, major_labels):\n\u001b[32m-> \u001b[39m\u001b[32m1285\u001b[39m     \u001b[43mtick\u001b[49m\u001b[43m.\u001b[49m\u001b[43mupdate_position\u001b[49m\u001b[43m(\u001b[49m\u001b[43mloc\u001b[49m\u001b[43m)\u001b[49m\n\u001b[32m   1286\u001b[39m     tick.label1.set_text(label)\n\u001b[32m   1287\u001b[39m     tick.label2.set_text(label)\n",
      "\u001b[36mFile \u001b[39m\u001b[32m~/Desktop/Stuff/projects/maze-solving-visualization/maze-solving-visualization/lib/python3.12/site-packages/matplotlib/axis.py:471\u001b[39m, in \u001b[36mYTick.update_position\u001b[39m\u001b[34m(self, loc)\u001b[39m\n\u001b[32m    469\u001b[39m \u001b[38;5;28mself\u001b[39m.tick1line.set_ydata((loc,))\n\u001b[32m    470\u001b[39m \u001b[38;5;28mself\u001b[39m.tick2line.set_ydata((loc,))\n\u001b[32m--> \u001b[39m\u001b[32m471\u001b[39m \u001b[38;5;28;43mself\u001b[39;49m\u001b[43m.\u001b[49m\u001b[43mgridline\u001b[49m\u001b[43m.\u001b[49m\u001b[43mset_ydata\u001b[49m\u001b[43m(\u001b[49m\u001b[43m(\u001b[49m\u001b[43mloc\u001b[49m\u001b[43m,\u001b[49m\u001b[43m)\u001b[49m\u001b[43m)\u001b[49m\n\u001b[32m    472\u001b[39m \u001b[38;5;28mself\u001b[39m.label1.set_y(loc)\n\u001b[32m    473\u001b[39m \u001b[38;5;28mself\u001b[39m.label2.set_y(loc)\n",
      "\u001b[36mFile \u001b[39m\u001b[32m~/Desktop/Stuff/projects/maze-solving-visualization/maze-solving-visualization/lib/python3.12/site-packages/matplotlib/lines.py:1309\u001b[39m, in \u001b[36mLine2D.set_ydata\u001b[39m\u001b[34m(self, y)\u001b[39m\n\u001b[32m   1306\u001b[39m     \u001b[38;5;28mself\u001b[39m._invalidx = \u001b[38;5;28;01mTrue\u001b[39;00m\n\u001b[32m   1307\u001b[39m     \u001b[38;5;28mself\u001b[39m.stale = \u001b[38;5;28;01mTrue\u001b[39;00m\n\u001b[32m-> \u001b[39m\u001b[32m1309\u001b[39m \u001b[38;5;28;01mdef\u001b[39;00m\u001b[38;5;250m \u001b[39m\u001b[34mset_ydata\u001b[39m(\u001b[38;5;28mself\u001b[39m, y):\n\u001b[32m   1310\u001b[39m \u001b[38;5;250m    \u001b[39m\u001b[33;03m\"\"\"\u001b[39;00m\n\u001b[32m   1311\u001b[39m \u001b[33;03m    Set the data array for y.\u001b[39;00m\n\u001b[32m   1312\u001b[39m \n\u001b[32m   (...)\u001b[39m\u001b[32m   1320\u001b[39m \u001b[33;03m    set_xdata\u001b[39;00m\n\u001b[32m   1321\u001b[39m \u001b[33;03m    \"\"\"\u001b[39;00m\n\u001b[32m   1322\u001b[39m     \u001b[38;5;28;01mif\u001b[39;00m \u001b[38;5;129;01mnot\u001b[39;00m np.iterable(y):\n",
      "\u001b[31mKeyboardInterrupt\u001b[39m: "
     ]
    },
    {
     "data": {
      "image/png": "[encoded data removed]",
      "text/plain": [
       "<Figure size 1000x1000 with 1 Axes>"
      ]
     },
     "metadata": {},
     "output_type": "display_data"
    }
   ],
   "source": [
    "# algorithm = input(\"Enter algorithm (BFS or DFS): \").strip().lower()\n",
    "\n",
    "\n",
    "ani = solve_maze(numerized_maze)\n",
    "display(ani)"
   ]
  }
 ],
 "metadata": {
  "kernelspec": {
   "display_name": "maze-solving-visualization",
   "language": "python",
   "name": "python3"
  },
  "language_info": {
   "codemirror_mode": {
    "name": "ipython",
    "version": 3
   },
   "file_extension": ".py",
   "mimetype": "text/x-python",
   "name": "python",
   "nbconvert_exporter": "python",
   "pygments_lexer": "ipython3",
   "version": "3.12.4"
  }
 },
 "nbformat": 4,
 "nbformat_minor": 5
}
