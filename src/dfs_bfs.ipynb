{
 "cells": [
  {
   "cell_type": "markdown",
   "id": "7432d4fa",
   "metadata": {},
   "source": [
    "future enhancement: random solvable maze generating function banaayera tya bata call garne instead of giving a maze as input"
   ]
  },
  {
   "cell_type": "code",
   "execution_count": 129,
   "id": "34b3812d",
   "metadata": {},
   "outputs": [],
   "source": [
    "import numpy as np\n",
    "import matplotlib.pyplot as plt\n",
    "from matplotlib import colors"
   ]
  },
  {
   "cell_type": "code",
   "execution_count": 130,
   "id": "974d7148",
   "metadata": {},
   "outputs": [],
   "source": [
    "original_maze = [\n",
    "    ['S', 0, 1, 0, 0, 1, 0, 0, 0, 1, 0, 1, 0, 0, 0, 1, 0, 0, 1, 0],\n",
    "    [1, 0, 1, 0, 1, 1, 0, 1, 0, 1, 0, 1, 0, 1, 0, 1, 0, 1, 0, 0],\n",
    "    [0, 0, 0, 0, 0, 0, 0, 1, 0, 0, 0, 1, 0, 0, 0, 1, 0, 0, 1, 0],\n",
    "    [0, 1, 1, 1, 1, 1, 0, 1, 1, 1, 0, 1, 1, 1, 0, 1, 1, 0, 1, 0],\n",
    "    [0, 1, 0, 0, 0, 0, 0, 0, 0, 1, 0, 0, 0, 0, 0, 0, 1, 0, 0, 0],\n",
    "    [1, 1, 0, 1, 1, 1, 1, 1, 0, 1, 1, 1, 1, 1, 1, 0, 1, 1, 1, 0],\n",
    "    [0, 0, 0, 1, 0, 0, 0, 0, 0, 0, 0, 0, 0, 0, 1, 0, 0, 0, 0, 0],\n",
    "    [0, 1, 0, 1, 0, 1, 1, 1, 1, 1, 1, 1, 1, 0, 1, 1, 1, 1, 1, 0],\n",
    "    [0, 1, 0, 0, 0, 1, 0, 0, 0, 0, 0, 0, 1, 0, 0, 0, 0, 0, 1, 0],\n",
    "    [0, 1, 1, 1, 0, 1, 0, 1, 1, 1, 1, 0, 1, 1, 1, 1, 1, 0, 1, 0],\n",
    "    [0, 0, 0, 1, 0, 0, 0, 1, 0, 0, 1, 0, 0, 0, 0, 0, 1, 0, 0, 0],\n",
    "    [1, 1, 0, 1, 1, 1, 0, 1, 0, 1, 1, 1, 1, 1, 1, 0, 1, 1, 1, 0],\n",
    "    [0, 1, 0, 0, 0, 1, 0, 0, 0, 1, 0, 0, 0, 0, 1, 0, 0, 0, 1, 0],\n",
    "    [0, 1, 1, 1, 0, 1, 1, 1, 0, 1, 0, 1, 1, 0, 1, 1, 1, 0, 1, 0],\n",
    "    [0, 0, 0, 1, 0, 0, 0, 1, 0, 0, 0, 1, 0, 0, 0, 1, 0, 0, 0, 0],\n",
    "    [1, 1, 0, 1, 1, 1, 0, 1, 1, 1, 0, 1, 0, 1, 0, 1, 0, 1, 1, 1],\n",
    "    [0, 0, 0, 0, 0, 1, 0, 0, 0, 0, 0, 1, 0, 1, 0, 0, 0, 0, 0, 0],\n",
    "    [0, 1, 1, 1, 0, 1, 1, 1, 1, 1, 0, 1, 1, 1, 1, 1, 1, 1, 1, 0],\n",
    "    [0, 0, 0, 1, 0, 0, 0, 0, 0, 0, 0, 0, 0, 0, 0, 0, 0, 0, 0, 0],\n",
    "    [1, 1, 0, 1, 1, 1, 1, 1, 1, 1, 1, 1, 1, 1, 1, 1, 1, 1, 1, 'G'],\n",
    "]"
   ]
  },
  {
   "cell_type": "code",
   "execution_count": 131,
   "id": "21784983",
   "metadata": {},
   "outputs": [],
   "source": [
    "def to_numeric_grid(maze):\n",
    "    mapping = {'S':2, 'G':3, '1':1, '0':0, 1:1, 0:0}\n",
    "    numeric_grid = np.array([[mapping.get(element,4) for element in row] for row in maze],dtype=int)\n",
    "    return numeric_grid\n",
    "\n",
    "numerized_maze=to_numeric_grid(original_maze)"
   ]
  },
  {
   "cell_type": "code",
   "execution_count": 132,
   "id": "ffda5d86",
   "metadata": {},
   "outputs": [],
   "source": [
    "def find_pos(maze,value):\n",
    "    for i in range(len(maze)): #iterating over rows in the maze\n",
    "        for j in range(len(maze[i])): #iterating over elements in a row\n",
    "            if maze[i][j]==value:\n",
    "                return np.array((i,j))\n",
    "    return None\n",
    "\n",
    "pos=find_pos(numerized_maze,2)"
   ]
  },
  {
   "cell_type": "code",
   "execution_count": 133,
   "id": "18e6b48c",
   "metadata": {},
   "outputs": [],
   "source": [
    "def visualize_maze(maze):\n",
    "    start_pos=find_pos(maze,2)\n",
    "    goal_pos=find_pos(maze,3)\n",
    "\n",
    "    cmap = colors.ListedColormap(['white', 'black'])\n",
    "    bounds = [-0.5, 0.5, 1.5]\n",
    "    norm = colors.BoundaryNorm(bounds, cmap.N)\n",
    "\n",
    "    plt.figure(figsize=(10,10))\n",
    "    plt.imshow(maze, cmap=cmap,norm=norm)\n",
    "\n",
    "    plt.scatter(start_pos[0]+1,start_pos[1],s=100,c='green',label='Start(S)')\n",
    "    plt.scatter(goal_pos[0],goal_pos[1]-1,s=100,c='red',label='Goal(G)')\n",
    "    plt.legend()\n",
    "\n",
    "    plt.xticks([])\n",
    "    plt.yticks([])\n",
    "\n",
    "    plt.show()"
   ]
  }
 ],
 "metadata": {
  "kernelspec": {
   "display_name": "maze-solving-visualization",
   "language": "python",
   "name": "python3"
  },
  "language_info": {
   "codemirror_mode": {
    "name": "ipython",
    "version": 3
   },
   "file_extension": ".py",
   "mimetype": "text/x-python",
   "name": "python",
   "nbconvert_exporter": "python",
   "pygments_lexer": "ipython3",
   "version": "3.12.4"
  }
 },
 "nbformat": 4,
 "nbformat_minor": 5
}
