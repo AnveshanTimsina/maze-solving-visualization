{
 "cells": [
  {
   "cell_type": "markdown",
   "id": "7432d4fa",
   "metadata": {},
   "source": [
    "future enhancement: random solvable maze generating function banaayera tya bata call garne instead of giving a maze as input"
   ]
  },
  {
   "cell_type": "code",
   "execution_count": 13,
   "id": "34b3812d",
   "metadata": {},
   "outputs": [],
   "source": [
    "import numpy as np\n",
    "import matplotlib.pyplot as plt\n",
    "from matplotlib import colors"
   ]
  },
  {
   "cell_type": "code",
   "execution_count": 14,
   "id": "974d7148",
   "metadata": {},
   "outputs": [],
   "source": [
    "original_maze = [\n",
    "    ['S', 0, 1, 0, 0, 1, 0, 0, 0, 1, 0, 1, 0, 0, 0, 1, 0, 0, 1, 0],\n",
    "    [1, 0, 1, 0, 1, 1, 0, 1, 0, 1, 0, 1, 0, 1, 0, 1, 0, 1, 0, 0],\n",
    "    [0, 0, 0, 0, 0, 0, 0, 1, 0, 0, 0, 1, 0, 0, 0, 1, 0, 0, 1, 0],\n",
    "    [0, 1, 1, 1, 1, 1, 0, 1, 1, 1, 0, 1, 1, 1, 0, 1, 1, 0, 1, 0],\n",
    "    [0, 1, 0, 0, 0, 0, 0, 0, 0, 1, 0, 0, 0, 0, 0, 0, 1, 0, 0, 0],\n",
    "    [1, 1, 0, 1, 1, 1, 1, 1, 0, 1, 1, 1, 1, 1, 1, 0, 1, 1, 1, 0],\n",
    "    [0, 0, 0, 1, 0, 0, 0, 0, 0, 0, 0, 0, 0, 0, 1, 0, 0, 0, 0, 0],\n",
    "    [0, 1, 0, 1, 0, 1, 1, 1, 1, 1, 1, 1, 1, 0, 1, 1, 1, 1, 1, 0],\n",
    "    [0, 1, 0, 0, 0, 1, 0, 0, 0, 0, 0, 0, 1, 0, 0, 0, 0, 0, 1, 0],\n",
    "    [0, 1, 1, 1, 0, 1, 0, 1, 1, 1, 1, 0, 1, 1, 1, 1, 1, 0, 1, 0],\n",
    "    [0, 0, 0, 1, 0, 0, 0, 1, 0, 0, 1, 0, 0, 0, 0, 0, 1, 0, 0, 0],\n",
    "    [1, 1, 0, 1, 1, 1, 0, 1, 0, 1, 1, 1, 1, 1, 1, 0, 1, 1, 1, 0],\n",
    "    [0, 1, 0, 0, 0, 1, 0, 0, 0, 1, 0, 0, 0, 0, 1, 0, 0, 0, 1, 0],\n",
    "    [0, 1, 1, 1, 0, 1, 1, 1, 0, 1, 0, 1, 1, 0, 1, 1, 1, 0, 1, 0],\n",
    "    [0, 0, 0, 1, 0, 0, 0, 1, 0, 0, 0, 1, 0, 0, 0, 1, 0, 0, 0, 0],\n",
    "    [1, 1, 0, 1, 1, 1, 0, 1, 1, 1, 0, 1, 0, 1, 0, 1, 0, 1, 1, 1],\n",
    "    [0, 0, 0, 0, 0, 1, 0, 0, 0, 0, 0, 1, 0, 1, 0, 0, 0, 0, 0, 0],\n",
    "    [0, 1, 1, 1, 0, 1, 1, 1, 1, 1, 0, 1, 1, 1, 1, 1, 1, 1, 1, 0],\n",
    "    [0, 0, 0, 1, 0, 0, 0, 0, 0, 0, 0, 0, 0, 0, 0, 0, 0, 0, 0, 0],\n",
    "    [1, 1, 0, 1, 1, 1, 1, 1, 1, 1, 1, 1, 1, 1, 1, 1, 1, 1, 1, 'G'],\n",
    "]"
   ]
  },
  {
   "cell_type": "code",
   "execution_count": 15,
   "id": "21784983",
   "metadata": {},
   "outputs": [],
   "source": [
    "def to_numeric_grid(maze):\n",
    "    mapping = {'S':2, 'G':3, '1':1, '0':0, 1:1, 0:0}\n",
    "    numeric_grid = np.array([[mapping.get(element,4) for element in row] for row in maze],dtype=int)\n",
    "    return numeric_grid\n",
    "\n",
    "numerized_maze=to_numeric_grid(original_maze)"
   ]
  },
  {
   "cell_type": "code",
   "execution_count": 16,
   "id": "ffda5d86",
   "metadata": {},
   "outputs": [],
   "source": [
    "def find_pos(maze,value):\n",
    "    for i in range(len(maze)): #iterating over rows in the maze\n",
    "        for j in range(len(maze[i])): #iterating over elements in a row\n",
    "            if maze[i][j]==value:\n",
    "                return np.array((i,j))\n",
    "    return None"
   ]
  },
  {
   "cell_type": "code",
   "execution_count": 33,
   "id": "18e6b48c",
   "metadata": {},
   "outputs": [
    {
     "data": {
      "image/png": "[encoded data removed]",
      "text/plain": [
       "<Figure size 1000x1000 with 1 Axes>"
      ]
     },
     "metadata": {},
     "output_type": "display_data"
    }
   ],
   "source": [
    "def visualize_maze(maze):\n",
    "    start_pos=find_pos(maze,2)\n",
    "    goal_pos=find_pos(maze,3)\n",
    "\n",
    "    cmap = colors.ListedColormap(['white', 'black','green','red'])\n",
    "    bounds = [-0.5, 0.5, 1.5,2.5,3.5]\n",
    "    norm = colors.BoundaryNorm(bounds, cmap.N)\n",
    "\n",
    "    plt.figure(figsize=(10,10))\n",
    "    plt.imshow(maze, cmap=cmap,norm=norm)\n",
    "\n",
    "    plt.scatter([],[],c='green',label='Start(S)')\n",
    "    plt.scatter([],[],c='red',label='Goal(G)')\n",
    "    plt.legend()\n",
    "\n",
    "    plt.xticks([])\n",
    "    plt.yticks([])\n",
    "\n",
    "    plt.show()\n",
    "\n",
    "visualize_maze(numerized_maze)"
   ]
  },
  {
   "cell_type": "code",
   "execution_count": 43,
   "id": "60ee9456",
   "metadata": {},
   "outputs": [
    {
     "name": "stdout",
     "output_type": "stream",
     "text": [
      "[(0, 1), (2, 1)]\n"
     ]
    }
   ],
   "source": [
    "def get_neighbors(maze, r,c):\n",
    "    directions =[(-1,0),(1,0),(0,1),(0,-1)]\n",
    "    rows, columns = len(maze), len(maze[0])\n",
    "\n",
    "    for (dr, dc) in directions:\n",
    "        nr = r+dr\n",
    "        nc = c+dc\n",
    "        if (0 <= nr < rows) and (0 <= nc < columns):\n",
    "            if maze[nr][nc] != 1:\n",
    "                yield (nr,nc)\n",
    "        \n",
    "neighbors = list(get_neighbors(numerized_maze, 1, 1))\n",
    "print(neighbors)"
   ]
  }
 ],
 "metadata": {
  "kernelspec": {
   "display_name": "maze-solving-visualization",
   "language": "python",
   "name": "python3"
  },
  "language_info": {
   "codemirror_mode": {
    "name": "ipython",
    "version": 3
   },
   "file_extension": ".py",
   "mimetype": "text/x-python",
   "name": "python",
   "nbconvert_exporter": "python",
   "pygments_lexer": "ipython3",
   "version": "3.12.4"
  }
 },
 "nbformat": 4,
 "nbformat_minor": 5
}
