{
  "cells": [
    {
      "cell_type": "code",
      "execution_count": null,
      "metadata": {},
      "outputs": [],
      "source": [
        "import heapq\n",
        "import numpy as np\n",
        "import matplotlib.pyplot as plt\n",
        "import matplotlib.colors as mcolors\n",
        "from matplotlib import animation\n",
        "from IPython.display import HTML\n",
        "import time\n",
        "import random"
      ]
    },
    {
      "cell_type": "code",
      "execution_count": null,
      "metadata": {
        "colab": {
          "base_uri": "https://localhost:8080/",
          "height": 653
        },
        "id": "_w902cCA8tQi",
        "outputId": "d45014dd-1243-4f39-bc69-671eb53f0ad6"
      },
      "outputs": [],
      "source": [
        "def generate_maze(rows, cols):\n",
        "\n",
        "    if rows % 2 == 0: rows += 1\n",
        "    if cols % 2 == 0: cols += 1\n",
        "\n",
        "\n",
        "    maze = np.ones((rows, cols), dtype=np.int8)\n",
        "\n",
        "\n",
        "    start_r = random.randrange(1, rows, 2)\n",
        "    start_c = random.randrange(1, cols, 2)\n",
        "    maze[start_r, start_c] = 0  # Passage\n",
        "\n",
        "    wall_list = []\n",
        "\n",
        "\n",
        "    def add_frontiers(r, c):\n",
        "        for dr, dc in [(-2,0), (2,0), (0,-2), (0,2)]:\n",
        "            nr, nc = r + dr, c + dc\n",
        "            if 0 < nr < rows and 0 < nc < cols and maze[nr, nc] == 1:\n",
        "                wall_list.append((r, c, nr, nc))\n",
        "\n",
        "    add_frontiers(start_r, start_c)\n",
        "\n",
        "    while wall_list:\n",
        "        idx = random.randint(0, len(wall_list)-1)\n",
        "        r1, c1, r2, c2 = wall_list.pop(idx)\n",
        "\n",
        "        if maze[r2, c2] == 1:\n",
        "\n",
        "            adjacent_passages = 0\n",
        "            for dr, dc in [(-2,0), (2,0), (0,-2), (0,2)]:\n",
        "                ar, ac = r2 + dr, c2 + dc\n",
        "                if 0 <= ar < rows and 0 <= ac < cols and maze[ar, ac] == 0:\n",
        "                    adjacent_passages += 1\n",
        "            if adjacent_passages == 1:\n",
        "\n",
        "                mid_r, mid_c = (r1 + r2) // 2, (c1 + c2) // 2\n",
        "                maze[mid_r, mid_c] = 0\n",
        "                maze[r2, c2] = 0\n",
        "                add_frontiers(r2, c2)\n",
        "\n",
        "    return maze\n",
        "\n",
        "\n",
        "maze = generate_maze(21, 21)\n",
        "\n",
        "import matplotlib.pyplot as plt\n",
        "plt.figure(figsize=(8, 8))\n",
        "plt.imshow(maze, cmap='binary')\n",
        "plt.axis('off')\n",
        "plt.show()\n"
      ]
    },
    {
      "cell_type": "code",
      "execution_count": null,
      "metadata": {
        "id": "sHTGyvXK95oQ"
      },
      "outputs": [],
      "source": [
        "def place_start_goal(maze):\n",
        "    maze = maze.copy()\n",
        "    rows, cols = maze.shape\n",
        "\n",
        "    # Place Start\n",
        "    maze[1, 1] = 2\n",
        "    # Place Goal\n",
        "    maze[rows-2, cols-2] = 3\n",
        "    return maze\n"
      ]
    },
    {
      "cell_type": "code",
      "execution_count": null,
      "metadata": {
        "colab": {
          "base_uri": "https://localhost:8080/",
          "height": 674
        },
        "id": "IDtm8wVr-H_J",
        "outputId": "46cd347f-c044-4aad-989e-e4498c5a01e1"
      },
      "outputs": [],
      "source": [
        "maze = generate_maze(21, 21)\n",
        "maze_with_sg = place_start_goal(maze)\n",
        "\n",
        "# Custom colormap: 1=wall(black), 0=passage(white), 2=start(green), 3=goal(red)\n",
        "cmap = mcolors.ListedColormap(['white', 'black', 'green', 'red'])\n",
        "bounds = [0, 1, 2, 3, 4]\n",
        "norm = mcolors.BoundaryNorm(bounds, cmap.N)\n",
        "\n",
        "plt.figure(figsize=(8,8))\n",
        "plt.imshow(maze_with_sg, cmap=cmap, norm=norm)\n",
        "plt.title(\"Maze with Start (green) and Goal (red)\")\n",
        "plt.axis('off')\n",
        "plt.show()\n"
      ]
    },
    {
      "cell_type": "code",
      "execution_count": null,
      "metadata": {
        "id": "eG9YEn0h-YOP"
      },
      "outputs": [],
      "source": [
        "def get_neighbors(maze, r, c):\n",
        "\n",
        "    rows, cols = maze.shape\n",
        "    neighbors = []\n",
        "    for dr, dc in [(-1,0), (1,0), (0,-1), (0,1)]:  # Up, Down, Left, Right\n",
        "        nr, nc = r + dr, c + dc\n",
        "        if 0 <= nr < rows and 0 <= nc < cols:\n",
        "            if maze[nr, nc] in [0, 2, 3]:  # Passage, Start, or Goal\n",
        "                neighbors.append((nr, nc))\n",
        "    return neighbors\n"
      ]
    },
    {
      "cell_type": "code",
      "execution_count": null,
      "metadata": {
        "id": "stfYfzBv-m5l"
      },
      "outputs": [],
      "source": [
        "def manhattan_distance(a, b):\n",
        "    return abs(a[0] - b[0]) + abs(a[1] - b[1])"
      ]
    },
    {
      "cell_type": "code",
      "execution_count": null,
      "metadata": {
        "colab": {
          "base_uri": "https://localhost:8080/",
          "height": 674
        },
        "id": "Jb7IvP0R--EC",
        "outputId": "2214f423-91a4-4f81-899a-4e377e3ca25c"
      },
      "outputs": [],
      "source": [
        "def a_star(maze, start, goal, visualize=True):\n",
        "    rows, cols = maze.shape\n",
        "    new_maze = maze.copy()\n",
        "    visited = set()\n",
        "    parent = {} \n",
        "\n",
        "    heap = []\n",
        "    heapq.heappush(heap, (0 + manhattan_distance(start, goal), 0, start))\n",
        "\n",
        "    while heap:\n",
        "        f, g, (r, c) = heapq.heappop(heap)\n",
        "        if (r, c) == goal:\n",
        "            cur = goal\n",
        "            while cur != start:\n",
        "                if new_maze[cur] not in [2, 3]:\n",
        "                    new_maze[cur] = 5 #blue\n",
        "                cur = parent[cur]\n",
        "            return new_maze, True\n",
        "\n",
        "        if (r, c) in visited:\n",
        "            continue\n",
        "        visited.add((r, c))\n",
        "\n",
        "        if new_maze[r, c] not in [2, 3]:  \n",
        "            new_maze[r, c] = 4  #green\n",
        "\n",
        "        for nr, nc in get_neighbors(maze, r, c):\n",
        "            if (nr, nc) not in visited:\n",
        "                parent[(nr, nc)] = (r, c)\n",
        "                g_new = g + 1\n",
        "                f_new = g_new + manhattan_distance((nr, nc), goal)\n",
        "                heapq.heappush(heap, (f_new, g_new, (nr, nc)))\n",
        "\n",
        "    return new_maze, False\n",
        "\n",
        "astar_cmap = mcolors.ListedColormap(['white', 'black', 'orange', 'red', 'green', 'blue'])\n",
        "astar_bounds = [0,1,2,3,4,5,6]\n",
        "astar_norm = mcolors.BoundaryNorm(astar_bounds, astar_cmap.N)\n",
        "\n",
        "maze = generate_maze(21, 21)\n",
        "maze_with_sg = place_start_goal(maze)\n",
        "start = (1, 1)\n",
        "goal = (maze.shape[0]-2, maze.shape[1]-2)\n",
        "\n",
        "solved_maze, found = a_star(maze_with_sg, start, goal)\n",
        "\n",
        "plt.figure(figsize=(8,8))\n",
        "plt.imshow(solved_maze, cmap=astar_cmap, norm=astar_norm)\n",
        "plt.title(f\"A* Path: {'Found' if found else 'Not Found'}\")\n",
        "plt.axis('off')\n",
        "plt.show()\n"
      ]
    },
    {
      "cell_type": "code",
      "execution_count": null,
      "metadata": {
        "id": "sDXsdS4D_Si3"
      },
      "outputs": [],
      "source": [
        "def a_star_animated(maze, start, goal):\n",
        "    rows, cols = maze.shape\n",
        "    new_maze = maze.copy()\n",
        "    visited = set()\n",
        "    parent = {}\n",
        "\n",
        "    heap = []\n",
        "    heapq.heappush(heap, (0 + manhattan_distance(start, goal), 0, start))\n",
        "\n",
        "    frames = [new_maze.copy()]\n",
        "\n",
        "    while heap:\n",
        "        f, g, (r, c) = heapq.heappop(heap)\n",
        "        if (r, c) == goal:\n",
        "            cur = goal\n",
        "            while cur != start:\n",
        "                if new_maze[cur] not in [2, 3]:\n",
        "                    new_maze[cur] = 5  # Path=Blue\n",
        "                    frames.append(new_maze.copy())\n",
        "                cur = parent[cur]\n",
        "            return frames, True\n",
        "\n",
        "        if (r, c) in visited:\n",
        "            continue\n",
        "        visited.add((r, c))\n",
        "\n",
        "        if new_maze[r, c] not in [2, 3]:\n",
        "            new_maze[r, c] = 4  # Visited=Green\n",
        "            frames.append(new_maze.copy())\n",
        "\n",
        "        for nr, nc in get_neighbors(maze, r, c):\n",
        "            if (nr, nc) not in visited:\n",
        "                parent[(nr, nc)] = (r, c)\n",
        "                g_new = g + 1\n",
        "                f_new = g_new + manhattan_distance((nr, nc), goal)\n",
        "                heapq.heappush(heap, (f_new, g_new, (nr, nc)))\n",
        "\n",
        "    return frames, False\n"
      ]
    },
    {
      "cell_type": "code",
      "execution_count": null,
      "metadata": {
        "colab": {
          "base_uri": "https://localhost:8080/",
          "height": 696
        },
        "id": "uTnpz8my_g2k",
        "outputId": "ab922be1-88a1-4e3f-9024-f9c8a8912355"
      },
      "outputs": [],
      "source": [
        "maze = generate_maze(21, 21)\n",
        "maze_with_sg = place_start_goal(maze)\n",
        "start = (1, 1)\n",
        "goal = (maze.shape[0]-2, maze.shape[1]-2)\n",
        "\n",
        "frames, found = a_star_animated(maze_with_sg, start, goal)\n",
        "\n",
        "# Color map: white, black, orange, red, green, blue\n",
        "astar_cmap = mcolors.ListedColormap(['white', 'black', 'orange', 'red', 'green', 'blue'])\n",
        "astar_bounds = [0,1,2,3,4,5,6]\n",
        "astar_norm = mcolors.BoundaryNorm(astar_bounds, astar_cmap.N)\n",
        "\n",
        "fig, ax = plt.subplots(figsize=(10, 10))\n",
        "im = ax.imshow(frames[0], cmap=astar_cmap, norm=astar_norm)\n",
        "plt.axis('off')\n",
        "plt.title(\"A* Search Animation\")\n",
        "\n",
        "def animate(i):\n",
        "    im.set_data(frames[i])\n",
        "    return [im]\n",
        "\n",
        "ani = animation.FuncAnimation(fig, animate, frames=len(frames), interval=30, blit=True)\n",
        "plt.close(fig)\n",
        "HTML(ani.to_jshtml())\n"
      ]
    },
    {
      "cell_type": "code",
      "execution_count": null,
      "metadata": {
        "id": "utazxmK2_50x"
      },
      "outputs": [],
      "source": [
        "def a_star_animated_logging(maze, start, goal):\n",
        "    rows, cols = maze.shape\n",
        "    new_maze = maze.copy()\n",
        "    visited = set()\n",
        "    parent = {}\n",
        "\n",
        "    heap = []\n",
        "    heapq.heappush(heap, (0 + manhattan_distance(start, goal), 0, start))\n",
        "\n",
        "    frames = [new_maze.copy()]\n",
        "    visited_count = 0\n",
        "    path_length = 0\n",
        "\n",
        "    t0 = time.time()\n",
        "    while heap:\n",
        "        f, g, (r, c) = heapq.heappop(heap)\n",
        "        if (r, c) == goal:\n",
        "            cur = goal\n",
        "            while cur != start:\n",
        "                if new_maze[cur] not in [2, 3]:\n",
        "                    new_maze[cur] = 5  # Path=Blue\n",
        "                    frames.append(new_maze.copy())\n",
        "                cur = parent[cur]\n",
        "                path_length += 1\n",
        "            t1 = time.time()\n",
        "            exec_time = t1 - t0\n",
        "            print(f\"Visited nodes: {visited_count}\")\n",
        "            print(f\"Path length: {path_length}\")\n",
        "            print(f\"Execution time: {exec_time:.5f} seconds\")\n",
        "            return frames, True\n",
        "\n",
        "        if (r, c) in visited:\n",
        "            continue\n",
        "        visited.add((r, c))\n",
        "        visited_count += 1\n",
        "\n",
        "        if new_maze[r, c] not in [2, 3]:\n",
        "            new_maze[r, c] = 4  # Visited=Green\n",
        "            frames.append(new_maze.copy())\n",
        "\n",
        "        for nr, nc in get_neighbors(maze, r, c):\n",
        "            if (nr, nc) not in visited:\n",
        "                parent[(nr, nc)] = (r, c)\n",
        "                g_new = g + 1\n",
        "                f_new = g_new + manhattan_distance((nr, nc), goal)\n",
        "                heapq.heappush(heap, (f_new, g_new, (nr, nc)))\n",
        "\n",
        "    t1 = time.time()\n",
        "    exec_time = t1 - t0\n",
        "    print(\"No path found.\")\n",
        "    print(f\"Visited nodes: {visited_count}\")\n",
        "    print(f\"Execution time: {exec_time:.5f} seconds\")\n",
        "    return frames, False\n"
      ]
    },
    {
      "cell_type": "code",
      "execution_count": null,
      "metadata": {
        "colab": {
          "base_uri": "https://localhost:8080/"
        },
        "id": "2uHo-0j4AFXn",
        "outputId": "3778fd4a-f21d-49a4-8493-cce7f2124781"
      },
      "outputs": [],
      "source": [
        "\n",
        "maze_with_sg = place_start_goal(maze)\n",
        "start = (1, 1)\n",
        "goal = (maze.shape[0]-2, maze.shape[1]-2)\n",
        "\n",
        "frames, found = a_star_animated_logging(maze_with_sg, start, goal)"
      ]
    }
  ],
  "metadata": {
    "colab": {
      "provenance": []
    },
    "kernelspec": {
      "display_name": "maze-solving-visualization",
      "language": "python",
      "name": "python3"
    },
    "language_info": {
      "codemirror_mode": {
        "name": "ipython",
        "version": 3
      },
      "file_extension": ".py",
      "mimetype": "text/x-python",
      "name": "python",
      "nbconvert_exporter": "python",
      "pygments_lexer": "ipython3",
      "version": "3.12.4"
    }
  },
  "nbformat": 4,
  "nbformat_minor": 0
}
